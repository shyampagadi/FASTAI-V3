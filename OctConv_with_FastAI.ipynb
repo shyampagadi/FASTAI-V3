{
  "nbformat": 4,
  "nbformat_minor": 0,
  "metadata": {
    "colab": {
      "name": "OctConv with FastAI.ipynb",
      "version": "0.3.2",
      "provenance": [],
      "collapsed_sections": []
    },
    "kernelspec": {
      "name": "python3",
      "display_name": "Python 3"
    },
    "accelerator": "GPU"
  },
  "cells": [
    {
      "metadata": {
        "id": "FlCQ7GRYaf3k",
        "colab_type": "code",
        "colab": {}
      },
      "cell_type": "code",
      "source": [
        "%reload_ext autoreload\n",
        "%autoreload 2\n",
        "%matplotlib inline"
      ],
      "execution_count": 0,
      "outputs": []
    },
    {
      "metadata": {
        "id": "yZUfX9pnaWY7",
        "colab_type": "code",
        "colab": {}
      },
      "cell_type": "code",
      "source": [
        "from fastai.vision import *\n",
        "import pandas as pd\n",
        "import numpy as np\n",
        "import re"
      ],
      "execution_count": 0,
      "outputs": []
    },
    {
      "metadata": {
        "id": "1kONsMmwfkLH",
        "colab_type": "text"
      },
      "cell_type": "markdown",
      "source": [
        "# Training Data Preparation\n",
        "\n",
        "## CIFAR-10 training from scratch\n",
        "\n",
        "### Data Processing"
      ]
    },
    {
      "metadata": {
        "id": "PAEvKt8MffUO",
        "colab_type": "code",
        "colab": {}
      },
      "cell_type": "code",
      "source": [
        "path = untar_data(URLs.CIFAR)"
      ],
      "execution_count": 0,
      "outputs": []
    },
    {
      "metadata": {
        "id": "kmcxhSeqiCRI",
        "colab_type": "code",
        "outputId": "c833caa8-9c28-46a7-8b19-9b58134f9800",
        "colab": {
          "base_uri": "https://localhost:8080/",
          "height": 70
        }
      },
      "cell_type": "code",
      "source": [
        "path_lr=path/'train'\n",
        "path.ls()"
      ],
      "execution_count": 4,
      "outputs": [
        {
          "output_type": "execute_result",
          "data": {
            "text/plain": [
              "[PosixPath('/root/.fastai/data/cifar10/train'),\n",
              " PosixPath('/root/.fastai/data/cifar10/labels.txt'),\n",
              " PosixPath('/root/.fastai/data/cifar10/test')]"
            ]
          },
          "metadata": {
            "tags": []
          },
          "execution_count": 4
        }
      ]
    },
    {
      "metadata": {
        "id": "zv-s-c7Oigh4",
        "colab_type": "code",
        "colab": {}
      },
      "cell_type": "code",
      "source": [
        "bs,size=128,32"
      ],
      "execution_count": 0,
      "outputs": []
    },
    {
      "metadata": {
        "id": "owSliIR4iyXN",
        "colab_type": "code",
        "colab": {}
      },
      "cell_type": "code",
      "source": [
        "tfms = get_transforms(max_rotate=20, max_zoom=1.3, max_lighting=0.4, max_warp=0.4,\n",
        "                      p_affine=1., p_lighting=1.)"
      ],
      "execution_count": 0,
      "outputs": []
    },
    {
      "metadata": {
        "colab_type": "code",
        "id": "aaC5M3XVoTLo",
        "colab": {}
      },
      "cell_type": "code",
      "source": [
        "src = ImageList.from_folder(path).split_by_rand_pct(0.2, seed=42)"
      ],
      "execution_count": 0,
      "outputs": []
    },
    {
      "metadata": {
        "id": "Pj1A9mEEnR1k",
        "colab_type": "code",
        "outputId": "b14088c3-e7a3-4e7c-8f00-76f74c449b65",
        "colab": {
          "base_uri": "https://localhost:8080/",
          "height": 326
        }
      },
      "cell_type": "code",
      "source": [
        "labels= pd.read_csv(path/'labels.txt')\n",
        "labels"
      ],
      "execution_count": 8,
      "outputs": [
        {
          "output_type": "execute_result",
          "data": {
            "text/html": [
              "<div>\n",
              "<style scoped>\n",
              "    .dataframe tbody tr th:only-of-type {\n",
              "        vertical-align: middle;\n",
              "    }\n",
              "\n",
              "    .dataframe tbody tr th {\n",
              "        vertical-align: top;\n",
              "    }\n",
              "\n",
              "    .dataframe thead th {\n",
              "        text-align: right;\n",
              "    }\n",
              "</style>\n",
              "<table border=\"1\" class=\"dataframe\">\n",
              "  <thead>\n",
              "    <tr style=\"text-align: right;\">\n",
              "      <th></th>\n",
              "      <th>airplane</th>\n",
              "    </tr>\n",
              "  </thead>\n",
              "  <tbody>\n",
              "    <tr>\n",
              "      <th>0</th>\n",
              "      <td>automobile</td>\n",
              "    </tr>\n",
              "    <tr>\n",
              "      <th>1</th>\n",
              "      <td>bird</td>\n",
              "    </tr>\n",
              "    <tr>\n",
              "      <th>2</th>\n",
              "      <td>cat</td>\n",
              "    </tr>\n",
              "    <tr>\n",
              "      <th>3</th>\n",
              "      <td>deer</td>\n",
              "    </tr>\n",
              "    <tr>\n",
              "      <th>4</th>\n",
              "      <td>dog</td>\n",
              "    </tr>\n",
              "    <tr>\n",
              "      <th>5</th>\n",
              "      <td>frog</td>\n",
              "    </tr>\n",
              "    <tr>\n",
              "      <th>6</th>\n",
              "      <td>horse</td>\n",
              "    </tr>\n",
              "    <tr>\n",
              "      <th>7</th>\n",
              "      <td>ship</td>\n",
              "    </tr>\n",
              "    <tr>\n",
              "      <th>8</th>\n",
              "      <td>truck</td>\n",
              "    </tr>\n",
              "  </tbody>\n",
              "</table>\n",
              "</div>"
            ],
            "text/plain": [
              "     airplane\n",
              "0  automobile\n",
              "1        bird\n",
              "2         cat\n",
              "3        deer\n",
              "4         dog\n",
              "5        frog\n",
              "6       horse\n",
              "7        ship\n",
              "8       truck"
            ]
          },
          "metadata": {
            "tags": []
          },
          "execution_count": 8
        }
      ]
    },
    {
      "metadata": {
        "id": "aH_Er8oPjBQI",
        "colab_type": "code",
        "colab": {}
      },
      "cell_type": "code",
      "source": [
        "data = (ImageList.from_folder(path).split_by_rand_pct(0.2, seed=42)\n",
        "            .label_from_folder().transform(([flip_lr(p=0.5)], []), size=size)\n",
        "            .databunch(bs=bs)\n",
        "            .presize(size, scale=(0.35,1))\n",
        "            .normalize(imagenet_stats))"
      ],
      "execution_count": 0,
      "outputs": []
    },
    {
      "metadata": {
        "id": "Z5WrMDwRlKq-",
        "colab_type": "code",
        "outputId": "48e4f2b7-cf3d-4948-bffd-608b23fa6dce",
        "colab": {
          "base_uri": "https://localhost:8080/",
          "height": 1469
        }
      },
      "cell_type": "code",
      "source": [
        "data.show_batch()"
      ],
      "execution_count": 10,
      "outputs": [
        {
          "output_type": "display_data",
          "data": {
            "image/png": "[encoded data removed]",
            "text/plain": [
              "<Figure size 1440x1440 with 25 Axes>"
            ]
          },
          "metadata": {
            "tags": []
          }
        }
      ]
    },
    {
      "metadata": {
        "id": "jod2K3z_bB7B",
        "colab_type": "text"
      },
      "cell_type": "markdown",
      "source": [
        "# Reference Oct Conv Implementation\n",
        "\n",
        "I obtained an implementation of OctConv for various resnet models from here: <https://github.com/kk1694/octaveconv-pytorch>"
      ]
    },
    {
      "metadata": {
        "id": "LbvDwr3fe9jb",
        "colab_type": "code",
        "colab": {}
      },
      "cell_type": "code",
      "source": [
        "import torch.nn as nn\n",
        "import torch.nn.functional as F\n",
        "from functools import partial\n",
        "\n",
        "__all__ = ['OctResNet', 'oct_resnet18', 'oct_resnet34', 'oct_resnet50', \n",
        "           'oct_resnet101', 'oct_resnet152']\n",
        "\n",
        "class TensorTuple():\n",
        "    '''Stores high and low frequency tensors.'''    \n",
        "    def __init__(self, hf, lf):\n",
        "        self.hf, self.lf = hf, lf\n",
        "        self.shape = (self.hf.shape, self.lf.shape)\n",
        "        \n",
        "    def __repr__(self):\n",
        "        return 'tensor_tuple: '+self.hf.__repr__() + self.lf.__repr__()\n",
        "        \n",
        "    def __add__(self, other):\n",
        "        return TensorTuple(self.hf+other.hf, self.lf+other.lf)\n",
        "    \n",
        "def tupify(layer):\n",
        "    \n",
        "    '''Turns a layer (say relu of maxpool) into one that operates on TensorTuple'''\n",
        "    \n",
        "    if hasattr(layer, 'tupified'):\n",
        "        if layer.tupified: return layer\n",
        "    \n",
        "    class Tuplefied(nn.Module):\n",
        "        tupified=True\n",
        "        def __init__(self, *args, **kwargs):        \n",
        "            super().__init__()\n",
        "            self.inst1, self.inst2 = layer(*args, **kwargs), layer(*args, **kwargs)\n",
        "        def forward(self, x):\n",
        "            return TensorTuple(self.inst1(x.hf), self.inst2(x.lf))        \n",
        "    return Tuplefied\n",
        "\n",
        "def tupify_bn(layer, alpha):\n",
        "    \n",
        "    '''Turns a batch norm layer into one that operates on Tensortuple'''\n",
        "    \n",
        "    if hasattr(layer, 'tupified'):\n",
        "        if layer.tupified: return layer\n",
        "    \n",
        "    class Tuplefied(nn.Module):\n",
        "        tupified=True\n",
        "        def __init__(self, num_features, *args, **kwargs):        \n",
        "            super().__init__()\n",
        "            num_lf = int(alpha*num_features)\n",
        "            num_hf = num_features-num_lf\n",
        "            self.inst1, self.inst2 = layer(num_hf, *args, **kwargs), layer(num_lf, *args, **kwargs)\n",
        "        def forward(self, x):\n",
        "            return TensorTuple(self.inst1(x.hf), self.inst2(x.lf))        \n",
        "    return Tuplefied\n",
        "\n",
        "class OctConv(nn.Module):\n",
        "    \n",
        "    '''Main layer replacing nn.Conv2d'''\n",
        "    \n",
        "    def __init__(self, in_channels, out_channels, alpha, **kwargs):\n",
        "        \n",
        "        super(OctConv, self).__init__()        \n",
        "        if not isinstance(alpha, (tuple,list)):\n",
        "            alpha = (alpha, alpha)\n",
        "        assert alpha[0] >= 0 and alpha[0] < 1 and alpha[1] >= 0 and alpha[1] < 1\n",
        "        \n",
        "        self.low_in, self.low_out = int(alpha[0] * in_channels), int(alpha[1] * out_channels)\n",
        "        self.high_in, self.high_out = in_channels-self.low_in, out_channels-self.low_out\n",
        "        \n",
        "        if self.low_in != 0:\n",
        "            self.L2H = nn.Conv2d(self.low_in, self.high_out, **kwargs)\n",
        "            nn.init.kaiming_normal_(self.L2H.weight, mode='fan_out', nonlinearity='relu')\n",
        "            \n",
        "            if self.low_out != 0:\n",
        "                self.L2L = nn.Conv2d(self.low_in, self.low_out, **kwargs) \n",
        "                nn.init.kaiming_normal_(self.L2L.weight, mode='fan_out', nonlinearity='relu')\n",
        "            \n",
        "        if self.low_out != 0:\n",
        "            self.H2L = nn.Conv2d(self.high_in, self.low_out, **kwargs)\n",
        "            nn.init.kaiming_normal_(self.H2L.weight, mode='fan_out', nonlinearity='relu')\n",
        "            \n",
        "        self.H2H = nn.Conv2d(self.high_in, self.high_out, **kwargs)\n",
        "        nn.init.kaiming_normal_(self.H2H.weight, mode='fan_out', nonlinearity='relu')\n",
        "        \n",
        "        self.upsample = partial(F.interpolate, mode='nearest')\n",
        "        self.avg_pool = partial(F.avg_pool2d, kernel_size=2)\n",
        "\n",
        "    def forward(self, x):\n",
        "        \n",
        "        if self.low_in == 0 and self.low_out == 0:\n",
        "            return self.H2H(x)  # Regular convolution\n",
        "        elif self.low_in == 0 and self.low_out > 0:\n",
        "            return TensorTuple(self.H2H(x), self.H2L(self.avg_pool(x)))\n",
        "        elif self.low_in > 0 and self.low_out == 0:\n",
        "            hf, lf = x.hf, x.lf\n",
        "            hh = self.H2H(hf)\n",
        "            return hh + self.upsample(self.L2H(lf), size=hh.shape[2:])\n",
        "        else:\n",
        "            hf, lf = x.hf, x.lf\n",
        "            hh = self.H2H(hf); ll = self.L2L(lf)\n",
        "            if hf.shape[2]%2 ==0 and hf.shape[3]%2==0:\n",
        "                l_out = ll + self.H2L(self.avg_pool(hf))\n",
        "            else:\n",
        "                l_out = ll + self.H2L(F.adaptive_avg_pool2d(hf, ll.shape[2:]))\n",
        "            return TensorTuple(hh + self.upsample(self.L2H(lf), size=hh.shape[2:]), l_out)    \n",
        "        \n",
        "def conv3x3(in_planes, out_planes, alpha, stride=1, groups=1, oct_layer=True):\n",
        "    \"\"\"3x3 convolution with padding\"\"\"\n",
        "    if oct_layer:\n",
        "        return OctConv(in_planes, out_planes, alpha, kernel_size=3, stride=stride,\n",
        "                       padding=1, groups=groups, bias=False)\n",
        "    else:\n",
        "        return nn.Conv2d(in_planes, out_planes, kernel_size=3, stride=stride,\n",
        "                         padding=1, groups=groups, bias=False)\n",
        "\n",
        "def conv1x1(in_planes, out_planes, alpha, stride=1, oct_layer=True):\n",
        "    \"\"\"1x1 convolution\"\"\"\n",
        "    if oct_layer:\n",
        "        return OctConv(in_planes, out_planes, alpha, kernel_size=1, stride=stride, bias=False)\n",
        "    else:\n",
        "        return nn.Conv2d(in_planes, out_planes, kernel_size=1, stride=stride, bias=False)\n",
        "\n",
        "class OctBasicBlock(nn.Module):\n",
        "    expansion = 1\n",
        "\n",
        "    def __init__(self, inplanes, planes, alpha, stride=1, downsample=None, groups=1,\n",
        "                 base_width=64, norm_layer=None, last_block=False):\n",
        "        super().__init__()\n",
        "        if norm_layer is None:\n",
        "            norm_layer = nn.BatchNorm2d\n",
        "        if groups != 1 or base_width != 64:\n",
        "            raise ValueError('BasicBlock only supports groups=1 and base_width=64')\n",
        "            \n",
        "        relu_layer = nn.ReLU if last_block else tupify(nn.ReLU)\n",
        "        norm_layer = norm_layer if last_block else tupify_bn(norm_layer, alpha)\n",
        "        alpha = (alpha, 0) if last_block else alpha\n",
        "        # Both self.conv1 and self.downsample layers downsample the input when stride != 1\n",
        "        self.conv1 = conv3x3(inplanes, planes, alpha, stride)\n",
        "        self.bn1 = norm_layer(planes)\n",
        "        self.relu = relu_layer(inplace=True)\n",
        "        self.conv2 = conv3x3(planes, planes, alpha, oct_layer=not last_block)\n",
        "        self.bn2 = norm_layer(planes)\n",
        "        self.downsample = downsample\n",
        "        self.stride = stride\n",
        "\n",
        "    def forward(self, x):\n",
        "        identity = x\n",
        "\n",
        "        out = self.conv1(x)\n",
        "        out = self.bn1(out)\n",
        "        out = self.relu(out)\n",
        "\n",
        "        out = self.conv2(out)\n",
        "        out = self.bn2(out)\n",
        "\n",
        "        if self.downsample is not None:\n",
        "            identity = self.downsample(x)\n",
        "            \n",
        "        if isinstance(out, TensorTuple):    \n",
        "            out += identity\n",
        "        else:\n",
        "            pass\n",
        "            # This is the case of the last conv layer\n",
        "            # I could interpolate identity.lf to high frequency,\n",
        "            # but I think it might be best to keep the last block\n",
        "            # without the skip connection. Will add the option later.        \n",
        "        \n",
        "        out = self.relu(out)\n",
        "\n",
        "        return out\n",
        "\n",
        "class OctBottleneck(nn.Module):\n",
        "    expansion = 4\n",
        "\n",
        "    def __init__(self, inplanes, planes, alpha, stride=1, downsample=None, groups=1,\n",
        "                 base_width=64, norm_layer=None, last_block=False):\n",
        "        super().__init__()\n",
        "        if norm_layer is None:\n",
        "            norm_layer = nn.BatchNorm2d\n",
        "        width = int(planes * (base_width / 64.)) * groups\n",
        "        \n",
        "        relu_layer = nn.ReLU if last_block else tupify(nn.ReLU)\n",
        "        norm_layer = norm_layer if last_block else tupify_bn(norm_layer, alpha)\n",
        "        alpha = (alpha, 0) if last_block else alpha\n",
        "        \n",
        "        # Both self.conv2 and self.downsample layers downsample the input when stride != 1\n",
        "        self.conv1 = conv1x1(inplanes, width, alpha)\n",
        "        self.bn1 = norm_layer(width)\n",
        "        self.conv2 = conv3x3(width, width, alpha, stride, groups, oct_layer=not last_block)\n",
        "        self.bn2 = norm_layer(width)\n",
        "        self.conv3 = conv1x1(width, planes * self.expansion, alpha, oct_layer=not last_block)\n",
        "        self.bn3 = norm_layer(planes * self.expansion)\n",
        "        self.relu = relu_layer(inplace=True)\n",
        "        self.downsample = downsample\n",
        "        self.stride = stride\n",
        "\n",
        "    def forward(self, x):\n",
        "        identity = x\n",
        "\n",
        "        out = self.conv1(x)\n",
        "        out = self.bn1(out)\n",
        "        out = self.relu(out)\n",
        "\n",
        "        out = self.conv2(out)\n",
        "        out = self.bn2(out)\n",
        "        out = self.relu(out)\n",
        "\n",
        "        out = self.conv3(out)\n",
        "        out = self.bn3(out)\n",
        "\n",
        "        if self.downsample is not None:\n",
        "            identity = self.downsample(x)\n",
        "\n",
        "        if isinstance(out, TensorTuple):    \n",
        "            out += identity\n",
        "        else:\n",
        "            pass\n",
        "            # This is the case of the last conv layer\n",
        "            # I could interpolate identity.lf to high frequency,\n",
        "            # but I think it might be best to keep the last block\n",
        "            # without the skip connection. Will add the option later.        \n",
        "            \n",
        "        out = self.relu(out)\n",
        "\n",
        "        return out\n",
        "\n",
        "\n",
        "class OctResNet(nn.Module):\n",
        "\n",
        "    def __init__(self, block, layers, alpha, num_classes=1000, zero_init_residual=False,\n",
        "                 groups=1, width_per_group=64, norm_layer=None):\n",
        "        super().__init__()\n",
        "        if norm_layer is None:\n",
        "            norm_layer = nn.BatchNorm2d\n",
        "            \n",
        "        self.alpha = alpha\n",
        "        self.inplanes = 64\n",
        "        self.groups = groups\n",
        "        self.base_width = width_per_group\n",
        "        self.conv1 = OctConv(3, self.inplanes, alpha = (0, alpha), kernel_size=7, stride=2, padding=3,\n",
        "                               bias=False)        \n",
        "        self.bn1 = tupify_bn(norm_layer, alpha)(self.inplanes)\n",
        "        self.relu = tupify(nn.ReLU)(inplace=True)\n",
        "        self.maxpool = tupify(nn.MaxPool2d)(kernel_size=3, stride=2, padding=1)\n",
        "        self.layer1 = self._make_layer(block, 64, layers[0], norm_layer=norm_layer)\n",
        "        self.layer2 = self._make_layer(block, 128, layers[1], stride=2, norm_layer=norm_layer)\n",
        "        self.layer3 = self._make_layer(block, 256, layers[2], stride=2, norm_layer=norm_layer)\n",
        "        self.layer4 = self._make_layer(block, 512, layers[3], stride=2, norm_layer=norm_layer,last_block=True)\n",
        "        self.avgpool = nn.AdaptiveAvgPool2d((1, 1))\n",
        "        self.fc = nn.Linear(512 * block.expansion, num_classes)\n",
        "\n",
        "        for m in self.modules():\n",
        "            if isinstance(m, nn.Conv2d):\n",
        "                nn.init.kaiming_normal_(m.weight, mode='fan_out', nonlinearity='relu')\n",
        "            elif isinstance(m, (nn.BatchNorm2d, nn.GroupNorm)):\n",
        "                nn.init.constant_(m.weight, 1)\n",
        "                nn.init.constant_(m.bias, 0)\n",
        "\n",
        "        # Zero-initialize the last BN in each residual branch,\n",
        "        # so that the residual branch starts with zeros, and each residual block behaves like an identity.\n",
        "        # This improves the model by 0.2~0.3% according to https://arxiv.org/abs/1706.02677\n",
        "        if zero_init_residual:\n",
        "            for m in self.modules():\n",
        "                if isinstance(m, Bottleneck):\n",
        "                    nn.init.constant_(m.bn3.weight, 0)\n",
        "                elif isinstance(m, BasicBlock):\n",
        "                    nn.init.constant_(m.bn2.weight, 0)\n",
        "\n",
        "    def _make_layer(self, block, planes, blocks, stride=1, norm_layer=None, last_block=False):\n",
        "        if norm_layer is None:\n",
        "            norm_layer = nn.BatchNorm2d\n",
        "        downsample = None\n",
        "        if stride != 1 or self.inplanes != planes * block.expansion:\n",
        "            downsample = nn.Sequential(\n",
        "                conv1x1(self.inplanes, planes * block.expansion, self.alpha, stride),\n",
        "                tupify_bn(norm_layer, self.alpha)(planes * block.expansion),\n",
        "            )\n",
        "\n",
        "        layers = []\n",
        "        layers.append(block(self.inplanes, planes, self.alpha, stride, downsample, self.groups,\n",
        "                            self.base_width, norm_layer))\n",
        "        self.inplanes = planes * block.expansion\n",
        "        for k in range(1, blocks):\n",
        "            layers.append(block(self.inplanes, planes, self.alpha, groups=self.groups,\n",
        "                                base_width=self.base_width, norm_layer=norm_layer,\n",
        "                                last_block=last_block and k == (blocks-1)))\n",
        "\n",
        "        return nn.Sequential(*layers)\n",
        "\n",
        "    def forward(self, x):\n",
        "        x = self.conv1(x)\n",
        "        x = self.bn1(x)\n",
        "        x = self.relu(x)\n",
        "        x = self.maxpool(x)\n",
        "\n",
        "        x = self.layer1(x)\n",
        "        x = self.layer2(x)\n",
        "        x = self.layer3(x)\n",
        "        x = self.layer4(x)\n",
        "\n",
        "        x = self.avgpool(x)\n",
        "        x = x.view(x.size(0), -1)\n",
        "        x = self.fc(x)\n",
        "\n",
        "        return x\n",
        "\n",
        "\n",
        "def oct_resnet18(alpha, pretrained=False, **kwargs):\n",
        "    \"\"\"Constructs a ResNet-18 model.\n",
        "    Args:\n",
        "        pretrained (bool): If True, returns a model pre-trained on ImageNet\n",
        "    \"\"\"\n",
        "    model = OctResNet(OctBasicBlock, [2, 2, 2, 2], alpha, **kwargs)\n",
        "    if pretrained:\n",
        "        raise NotImplementedError\n",
        "    return model\n",
        "\n",
        "\n",
        "def oct_resnet34(alpha, pretrained=False, **kwargs):\n",
        "    \"\"\"Constructs a ResNet-34 model.\n",
        "    Args:\n",
        "        pretrained (bool): If True, returns a model pre-trained on ImageNet\n",
        "    \"\"\"\n",
        "    model = OctResNet(OctBasicBlock, [3, 4, 6, 3], alpha,  **kwargs)\n",
        "    if pretrained:\n",
        "        raise NotImplementedError\n",
        "    return model\n",
        "\n",
        "\n",
        "def oct_resnet50(alpha, pretrained=False, **kwargs):\n",
        "    \"\"\"Constructs a ResNet-50 model.\n",
        "    Args:\n",
        "        pretrained (bool): If True, returns a model pre-trained on ImageNet\n",
        "    \"\"\"\n",
        "    model = OctResNet(OctBottleneck, [3, 4, 6, 3], alpha, **kwargs)\n",
        "    if pretrained:\n",
        "        raise NotImplementedError\n",
        "    return model\n",
        "\n",
        "\n",
        "def oct_resnet101(alpha, pretrained=False, **kwargs):\n",
        "    \"\"\"Constructs a ResNet-101 model.\n",
        "    Args:\n",
        "        pretrained (bool): If True, returns a model pre-trained on ImageNet\n",
        "    \"\"\"\n",
        "    model = OctResNet(OctBottleneck, [3, 4, 23, 3], alpha, **kwargs)\n",
        "    if pretrained:\n",
        "        raise NotImplementedError\n",
        "    return model\n",
        "\n",
        "\n",
        "def oct_resnet152(alpha, pretrained=False, **kwargs):\n",
        "    \"\"\"Constructs a ResNet-152 model.\n",
        "    Args:\n",
        "        pretrained (bool): If True, returns a model pre-trained on ImageNet\n",
        "    \"\"\"\n",
        "    model = OctResNet(OctBottleneck, [3, 8, 36, 3], alpha, **kwargs)\n",
        "    if pretrained:\n",
        "        raise NotImplementedError\n",
        "    return model\n"
      ],
      "execution_count": 0,
      "outputs": []
    },
    {
      "metadata": {
        "id": "15LMEiXprmBF",
        "colab_type": "text"
      },
      "cell_type": "markdown",
      "source": [
        "# Training with Oct-Resnet-50"
      ]
    },
    {
      "metadata": {
        "id": "WXb_auWHoual",
        "colab_type": "code",
        "colab": {}
      },
      "cell_type": "code",
      "source": [
        "model = oct_resnet50(0.25, num_classes=10).cuda()"
      ],
      "execution_count": 0,
      "outputs": []
    },
    {
      "metadata": {
        "id": "s8DWoOjOpD_U",
        "colab_type": "code",
        "colab": {}
      },
      "cell_type": "code",
      "source": [
        "learn = Learner(data, model, metrics=accuracy)"
      ],
      "execution_count": 0,
      "outputs": []
    },
    {
      "metadata": {
        "id": "_Q60HlOepTZw",
        "colab_type": "code",
        "outputId": "836ac9c7-397c-419d-a28e-269be1e64f95",
        "colab": {
          "base_uri": "https://localhost:8080/",
          "height": 321
        }
      },
      "cell_type": "code",
      "source": [
        "learn.lr_find()\n",
        "learn.recorder.plot()"
      ],
      "execution_count": 14,
      "outputs": [
        {
          "output_type": "display_data",
          "data": {
            "text/html": [
              ""
            ],
            "text/plain": [
              "<IPython.core.display.HTML object>"
            ]
          },
          "metadata": {
            "tags": []
          }
        },
        {
          "output_type": "stream",
          "text": [
            "LR Finder is complete, type {learner_name}.recorder.plot() to see the graph.\n"
          ],
          "name": "stdout"
        },
        {
          "output_type": "display_data",
          "data": {
            "image/png": "[encoded data removed]",
            "text/plain": [
              "<Figure size 432x288 with 1 Axes>"
            ]
          },
          "metadata": {
            "tags": []
          }
        }
      ]
    },
    {
      "metadata": {
        "id": "ZnQyO1BZq_Lw",
        "colab_type": "code",
        "outputId": "1fbea641-d174-4653-9292-156d7e634228",
        "colab": {
          "base_uri": "https://localhost:8080/",
          "height": 203
        }
      },
      "cell_type": "code",
      "source": [
        "niters = 5\n",
        "%timeit\n",
        "learn.fit_one_cycle(niters,1e-3)"
      ],
      "execution_count": 15,
      "outputs": [
        {
          "output_type": "display_data",
          "data": {
            "text/html": [
              "<table border=\"1\" class=\"dataframe\">\n",
              "  <thead>\n",
              "    <tr style=\"text-align: left;\">\n",
              "      <th>epoch</th>\n",
              "      <th>train_loss</th>\n",
              "      <th>valid_loss</th>\n",
              "      <th>accuracy</th>\n",
              "      <th>time</th>\n",
              "    </tr>\n",
              "  </thead>\n",
              "  <tbody>\n",
              "    <tr>\n",
              "      <td>0</td>\n",
              "      <td>1.961316</td>\n",
              "      <td>2.024244</td>\n",
              "      <td>0.253500</td>\n",
              "      <td>03:46</td>\n",
              "    </tr>\n",
              "    <tr>\n",
              "      <td>1</td>\n",
              "      <td>1.812552</td>\n",
              "      <td>1.985238</td>\n",
              "      <td>0.316750</td>\n",
              "      <td>03:46</td>\n",
              "    </tr>\n",
              "    <tr>\n",
              "      <td>2</td>\n",
              "      <td>1.644868</td>\n",
              "      <td>1.808893</td>\n",
              "      <td>0.349583</td>\n",
              "      <td>03:45</td>\n",
              "    </tr>\n",
              "    <tr>\n",
              "      <td>3</td>\n",
              "      <td>1.413407</td>\n",
              "      <td>1.610559</td>\n",
              "      <td>0.431083</td>\n",
              "      <td>03:46</td>\n",
              "    </tr>\n",
              "    <tr>\n",
              "      <td>4</td>\n",
              "      <td>1.303006</td>\n",
              "      <td>1.554790</td>\n",
              "      <td>0.447167</td>\n",
              "      <td>03:45</td>\n",
              "    </tr>\n",
              "  </tbody>\n",
              "</table>"
            ],
            "text/plain": [
              "<IPython.core.display.HTML object>"
            ]
          },
          "metadata": {
            "tags": []
          }
        }
      ]
    },
    {
      "metadata": {
        "id": "RVD34oXhEat0",
        "colab_type": "text"
      },
      "cell_type": "markdown",
      "source": [
        "# Reference ResNet Implementation"
      ]
    },
    {
      "metadata": {
        "id": "THFuB8tIEg6u",
        "colab_type": "code",
        "colab": {}
      },
      "cell_type": "code",
      "source": [
        "import torch.nn as nn\n",
        "import torch.utils.model_zoo as model_zoo\n",
        "\n",
        "\n",
        "__all__ = ['ResNet', 'resnet18', 'resnet34', 'resnet50', 'resnet101',\n",
        "           'resnet152', 'resnext50_32x4d', 'resnext101_32x8d']\n",
        "\n",
        "\n",
        "model_urls = {\n",
        "    'resnet18': 'https://download.pytorch.org/models/resnet18-5c106cde.pth',\n",
        "    'resnet34': 'https://download.pytorch.org/models/resnet34-333f7ec4.pth',\n",
        "    'resnet50': 'https://download.pytorch.org/models/resnet50-19c8e357.pth',\n",
        "    'resnet101': 'https://download.pytorch.org/models/resnet101-5d3b4d8f.pth',\n",
        "    'resnet152': 'https://download.pytorch.org/models/resnet152-b121ed2d.pth',\n",
        "}\n",
        "\n",
        "\n",
        "def conv3x3(in_planes, out_planes, stride=1, groups=1):\n",
        "    \"\"\"3x3 convolution with padding\"\"\"\n",
        "    return nn.Conv2d(in_planes, out_planes, kernel_size=3, stride=stride,\n",
        "                     padding=1, groups=groups, bias=False)\n",
        "\n",
        "\n",
        "def conv1x1(in_planes, out_planes, stride=1):\n",
        "    \"\"\"1x1 convolution\"\"\"\n",
        "    return nn.Conv2d(in_planes, out_planes, kernel_size=1, stride=stride, bias=False)\n",
        "\n",
        "\n",
        "class BasicBlock(nn.Module):\n",
        "    expansion = 1\n",
        "\n",
        "    def __init__(self, inplanes, planes, stride=1, downsample=None, groups=1,\n",
        "                 base_width=64, norm_layer=None):\n",
        "        super(BasicBlock, self).__init__()\n",
        "        if norm_layer is None:\n",
        "            norm_layer = nn.BatchNorm2d\n",
        "        if groups != 1 or base_width != 64:\n",
        "            raise ValueError('BasicBlock only supports groups=1 and base_width=64')\n",
        "        # Both self.conv1 and self.downsample layers downsample the input when stride != 1\n",
        "        self.conv1 = conv3x3(inplanes, planes, stride)\n",
        "        self.bn1 = norm_layer(planes)\n",
        "        self.relu = nn.ReLU(inplace=True)\n",
        "        self.conv2 = conv3x3(planes, planes)\n",
        "        self.bn2 = norm_layer(planes)\n",
        "        self.downsample = downsample\n",
        "        self.stride = stride\n",
        "\n",
        "    def forward(self, x):\n",
        "        identity = x\n",
        "\n",
        "        out = self.conv1(x)\n",
        "        out = self.bn1(out)\n",
        "        out = self.relu(out)\n",
        "\n",
        "        out = self.conv2(out)\n",
        "        out = self.bn2(out)\n",
        "\n",
        "        if self.downsample is not None:\n",
        "            identity = self.downsample(x)\n",
        "\n",
        "        out += identity\n",
        "        out = self.relu(out)\n",
        "\n",
        "        return out\n",
        "\n",
        "\n",
        "class Bottleneck(nn.Module):\n",
        "    expansion = 4\n",
        "\n",
        "    def __init__(self, inplanes, planes, stride=1, downsample=None, groups=1,\n",
        "                 base_width=64, norm_layer=None):\n",
        "        super(Bottleneck, self).__init__()\n",
        "        if norm_layer is None:\n",
        "            norm_layer = nn.BatchNorm2d\n",
        "        width = int(planes * (base_width / 64.)) * groups\n",
        "        # Both self.conv2 and self.downsample layers downsample the input when stride != 1\n",
        "        self.conv1 = conv1x1(inplanes, width)\n",
        "        self.bn1 = norm_layer(width)\n",
        "        self.conv2 = conv3x3(width, width, stride, groups)\n",
        "        self.bn2 = norm_layer(width)\n",
        "        self.conv3 = conv1x1(width, planes * self.expansion)\n",
        "        self.bn3 = norm_layer(planes * self.expansion)\n",
        "        self.relu = nn.ReLU(inplace=True)\n",
        "        self.downsample = downsample\n",
        "        self.stride = stride\n",
        "\n",
        "    def forward(self, x):\n",
        "        identity = x\n",
        "\n",
        "        out = self.conv1(x)\n",
        "        out = self.bn1(out)\n",
        "        out = self.relu(out)\n",
        "\n",
        "        out = self.conv2(out)\n",
        "        out = self.bn2(out)\n",
        "        out = self.relu(out)\n",
        "\n",
        "        out = self.conv3(out)\n",
        "        out = self.bn3(out)\n",
        "\n",
        "        if self.downsample is not None:\n",
        "            identity = self.downsample(x)\n",
        "\n",
        "        out += identity\n",
        "        out = self.relu(out)\n",
        "\n",
        "        return out\n",
        "\n",
        "\n",
        "class ResNet(nn.Module):\n",
        "\n",
        "    def __init__(self, block, layers, num_classes=1000, zero_init_residual=False,\n",
        "                 groups=1, width_per_group=64, norm_layer=None):\n",
        "        super(ResNet, self).__init__()\n",
        "        if norm_layer is None:\n",
        "            norm_layer = nn.BatchNorm2d\n",
        "\n",
        "        self.inplanes = 64\n",
        "        self.groups = groups\n",
        "        self.base_width = width_per_group\n",
        "        self.conv1 = nn.Conv2d(3, self.inplanes, kernel_size=7, stride=2, padding=3,\n",
        "                               bias=False)\n",
        "        self.bn1 = norm_layer(self.inplanes)\n",
        "        self.relu = nn.ReLU(inplace=True)\n",
        "        self.maxpool = nn.MaxPool2d(kernel_size=3, stride=2, padding=1)\n",
        "        self.layer1 = self._make_layer(block, 64, layers[0], norm_layer=norm_layer)\n",
        "        self.layer2 = self._make_layer(block, 128, layers[1], stride=2, norm_layer=norm_layer)\n",
        "        self.layer3 = self._make_layer(block, 256, layers[2], stride=2, norm_layer=norm_layer)\n",
        "        self.layer4 = self._make_layer(block, 512, layers[3], stride=2, norm_layer=norm_layer)\n",
        "        self.avgpool = nn.AdaptiveAvgPool2d((1, 1))\n",
        "        self.fc = nn.Linear(512 * block.expansion, num_classes)\n",
        "\n",
        "        for m in self.modules():\n",
        "            if isinstance(m, nn.Conv2d):\n",
        "                nn.init.kaiming_normal_(m.weight, mode='fan_out', nonlinearity='relu')\n",
        "            elif isinstance(m, (nn.BatchNorm2d, nn.GroupNorm)):\n",
        "                nn.init.constant_(m.weight, 1)\n",
        "                nn.init.constant_(m.bias, 0)\n",
        "\n",
        "        # Zero-initialize the last BN in each residual branch,\n",
        "        # so that the residual branch starts with zeros, and each residual block behaves like an identity.\n",
        "        # This improves the model by 0.2~0.3% according to https://arxiv.org/abs/1706.02677\n",
        "        if zero_init_residual:\n",
        "            for m in self.modules():\n",
        "                if isinstance(m, Bottleneck):\n",
        "                    nn.init.constant_(m.bn3.weight, 0)\n",
        "                elif isinstance(m, BasicBlock):\n",
        "                    nn.init.constant_(m.bn2.weight, 0)\n",
        "\n",
        "    def _make_layer(self, block, planes, blocks, stride=1, norm_layer=None):\n",
        "        if norm_layer is None:\n",
        "            norm_layer = nn.BatchNorm2d\n",
        "        downsample = None\n",
        "        if stride != 1 or self.inplanes != planes * block.expansion:\n",
        "            downsample = nn.Sequential(\n",
        "                conv1x1(self.inplanes, planes * block.expansion, stride),\n",
        "                norm_layer(planes * block.expansion),\n",
        "            )\n",
        "\n",
        "        layers = []\n",
        "        layers.append(block(self.inplanes, planes, stride, downsample, self.groups,\n",
        "                            self.base_width, norm_layer))\n",
        "        self.inplanes = planes * block.expansion\n",
        "        for _ in range(1, blocks):\n",
        "            layers.append(block(self.inplanes, planes, groups=self.groups,\n",
        "                                base_width=self.base_width, norm_layer=norm_layer))\n",
        "\n",
        "        return nn.Sequential(*layers)\n",
        "\n",
        "    def forward(self, x):\n",
        "        x = self.conv1(x)\n",
        "        x = self.bn1(x)\n",
        "        x = self.relu(x)\n",
        "        x = self.maxpool(x)\n",
        "\n",
        "        x = self.layer1(x)\n",
        "        x = self.layer2(x)\n",
        "        x = self.layer3(x)\n",
        "        x = self.layer4(x)\n",
        "\n",
        "        x = self.avgpool(x)\n",
        "        x = x.view(x.size(0), -1)\n",
        "        x = self.fc(x)\n",
        "\n",
        "        return x\n",
        "\n",
        "\n",
        "def resnet18(pretrained=False, **kwargs):\n",
        "    \"\"\"Constructs a ResNet-18 model.\n",
        "    Args:\n",
        "        pretrained (bool): If True, returns a model pre-trained on ImageNet\n",
        "    \"\"\"\n",
        "    model = ResNet(BasicBlock, [2, 2, 2, 2], **kwargs)\n",
        "    if pretrained:\n",
        "        model.load_state_dict(model_zoo.load_url(model_urls['resnet18']))\n",
        "    return model\n",
        "\n",
        "\n",
        "def resnet34(pretrained=False, **kwargs):\n",
        "    \"\"\"Constructs a ResNet-34 model.\n",
        "    Args:\n",
        "        pretrained (bool): If True, returns a model pre-trained on ImageNet\n",
        "    \"\"\"\n",
        "    model = ResNet(BasicBlock, [3, 4, 6, 3], **kwargs)\n",
        "    if pretrained:\n",
        "        model.load_state_dict(model_zoo.load_url(model_urls['resnet34']))\n",
        "    return model\n",
        "\n",
        "\n",
        "def resnet50(pretrained=False, **kwargs):\n",
        "    \"\"\"Constructs a ResNet-50 model.\n",
        "    Args:\n",
        "        pretrained (bool): If True, returns a model pre-trained on ImageNet\n",
        "    \"\"\"\n",
        "    model = ResNet(Bottleneck, [3, 4, 6, 3], **kwargs)\n",
        "    if pretrained:\n",
        "        model.load_state_dict(model_zoo.load_url(model_urls['resnet50']))\n",
        "    return model\n",
        "\n",
        "\n",
        "def resnet101(pretrained=False, **kwargs):\n",
        "    \"\"\"Constructs a ResNet-101 model.\n",
        "    Args:\n",
        "        pretrained (bool): If True, returns a model pre-trained on ImageNet\n",
        "    \"\"\"\n",
        "    model = ResNet(Bottleneck, [3, 4, 23, 3], **kwargs)\n",
        "    if pretrained:\n",
        "        model.load_state_dict(model_zoo.load_url(model_urls['resnet101']))\n",
        "    return model\n",
        "\n",
        "\n",
        "def resnet152(pretrained=False, **kwargs):\n",
        "    \"\"\"Constructs a ResNet-152 model.\n",
        "    Args:\n",
        "        pretrained (bool): If True, returns a model pre-trained on ImageNet\n",
        "    \"\"\"\n",
        "    model = ResNet(Bottleneck, [3, 8, 36, 3], **kwargs)\n",
        "    if pretrained:\n",
        "        model.load_state_dict(model_zoo.load_url(model_urls['resnet152']))\n",
        "    return model\n",
        "\n",
        "\n",
        "def resnext50_32x4d(pretrained=False, **kwargs):\n",
        "    model = ResNet(Bottleneck, [3, 4, 6, 3], groups=32, width_per_group=4, **kwargs)\n",
        "    # if pretrained:\n",
        "    #     model.load_state_dict(model_zoo.load_url(model_urls['resnext50_32x4d']))\n",
        "    return model\n",
        "\n",
        "\n",
        "def resnext101_32x8d(pretrained=False, **kwargs):\n",
        "    model = ResNet(Bottleneck, [3, 4, 23, 3], groups=32, width_per_group=8, **kwargs)\n",
        "    # if pretrained:\n",
        "    #     model.load_state_dict(model_zoo.load_url(model_urls['resnext101_32x8d']))\n",
        "    return model"
      ],
      "execution_count": 0,
      "outputs": []
    },
    {
      "metadata": {
        "id": "7T0trAn3xwNe",
        "colab_type": "text"
      },
      "cell_type": "markdown",
      "source": [
        "# Training with Resnet-50"
      ]
    },
    {
      "metadata": {
        "id": "rOLDGNcUrSot",
        "colab_type": "code",
        "colab": {}
      },
      "cell_type": "code",
      "source": [
        "model1 = resnet50(num_classes=10).cuda()"
      ],
      "execution_count": 0,
      "outputs": []
    },
    {
      "metadata": {
        "id": "so90qg1Ax1OT",
        "colab_type": "code",
        "colab": {}
      },
      "cell_type": "code",
      "source": [
        "learn1 = Learner(data,model1, metrics=accuracy)"
      ],
      "execution_count": 0,
      "outputs": []
    },
    {
      "metadata": {
        "id": "tebP0OIYyF6U",
        "colab_type": "code",
        "colab": {
          "base_uri": "https://localhost:8080/",
          "height": 321
        },
        "outputId": "895783bf-9b54-42ed-ae20-3801f741ee0f"
      },
      "cell_type": "code",
      "source": [
        "learn1.lr_find()\n",
        "learn1.recorder.plot()"
      ],
      "execution_count": 19,
      "outputs": [
        {
          "output_type": "display_data",
          "data": {
            "text/html": [
              ""
            ],
            "text/plain": [
              "<IPython.core.display.HTML object>"
            ]
          },
          "metadata": {
            "tags": []
          }
        },
        {
          "output_type": "stream",
          "text": [
            "LR Finder is complete, type {learner_name}.recorder.plot() to see the graph.\n"
          ],
          "name": "stdout"
        },
        {
          "output_type": "display_data",
          "data": {
            "image/png": "[encoded data removed]",
            "text/plain": [
              "<Figure size 432x288 with 1 Axes>"
            ]
          },
          "metadata": {
            "tags": []
          }
        }
      ]
    },
    {
      "metadata": {
        "id": "dRbsVaKoyI42",
        "colab_type": "code",
        "colab": {
          "base_uri": "https://localhost:8080/",
          "height": 203
        },
        "outputId": "3445cd86-c5ef-456a-a75d-d75e9b20a49f"
      },
      "cell_type": "code",
      "source": [
        "%timeit\n",
        "learn1.fit_one_cycle(niters,1e-3 )"
      ],
      "execution_count": 20,
      "outputs": [
        {
          "output_type": "display_data",
          "data": {
            "text/html": [
              "<table border=\"1\" class=\"dataframe\">\n",
              "  <thead>\n",
              "    <tr style=\"text-align: left;\">\n",
              "      <th>epoch</th>\n",
              "      <th>train_loss</th>\n",
              "      <th>valid_loss</th>\n",
              "      <th>accuracy</th>\n",
              "      <th>time</th>\n",
              "    </tr>\n",
              "  </thead>\n",
              "  <tbody>\n",
              "    <tr>\n",
              "      <td>0</td>\n",
              "      <td>2.048135</td>\n",
              "      <td>2.014067</td>\n",
              "      <td>0.238000</td>\n",
              "      <td>00:52</td>\n",
              "    </tr>\n",
              "    <tr>\n",
              "      <td>1</td>\n",
              "      <td>1.811107</td>\n",
              "      <td>1.900499</td>\n",
              "      <td>0.344833</td>\n",
              "      <td>00:52</td>\n",
              "    </tr>\n",
              "    <tr>\n",
              "      <td>2</td>\n",
              "      <td>1.594099</td>\n",
              "      <td>1.771427</td>\n",
              "      <td>0.392083</td>\n",
              "      <td>00:53</td>\n",
              "    </tr>\n",
              "    <tr>\n",
              "      <td>3</td>\n",
              "      <td>1.335517</td>\n",
              "      <td>1.577770</td>\n",
              "      <td>0.448917</td>\n",
              "      <td>00:52</td>\n",
              "    </tr>\n",
              "    <tr>\n",
              "      <td>4</td>\n",
              "      <td>1.175825</td>\n",
              "      <td>1.540693</td>\n",
              "      <td>0.468667</td>\n",
              "      <td>00:52</td>\n",
              "    </tr>\n",
              "  </tbody>\n",
              "</table>"
            ],
            "text/plain": [
              "<IPython.core.display.HTML object>"
            ]
          },
          "metadata": {
            "tags": []
          }
        }
      ]
    },
    {
      "metadata": {
        "id": "2xY7_3irFnVt",
        "colab_type": "code",
        "colab": {}
      },
      "cell_type": "code",
      "source": [
        ""
      ],
      "execution_count": 0,
      "outputs": []
    }
  ]
}